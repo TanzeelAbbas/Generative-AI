{
 "cells": [
  {
   "cell_type": "code",
   "execution_count": 44,
   "metadata": {},
   "outputs": [],
   "source": [
    "from llama_index.tools.database import DatabaseToolSpec\n",
    "from llama_index.agent.openai import OpenAIAgent\n",
    "from llama_index.llms.openai_like import OpenAILike\n",
    "from llama_index.core.agent import ReActAgent\n",
    "from llama_index.core.tools import BaseTool, FunctionTool\n",
    "# ! pip install psycopg2-binary\n"
   ]
  },
  {
   "cell_type": "code",
   "execution_count": 42,
   "metadata": {},
   "outputs": [],
   "source": [
    "db_tools = DatabaseToolSpec(\n",
    "    scheme=\"postgresql\",  # Database Scheme\n",
    "    host=\"localhost\",  # Database Host\n",
    "    port=\"5432\",  # Database Port\n",
    "    user=\"postgres\",  # Database User\n",
    "    password=\"password\",  # Database Password\n",
    "    dbname=\"global_electricity\",  # Database Name\n",
    ")"
   ]
  },
  {
   "cell_type": "code",
   "execution_count": 43,
   "metadata": {},
   "outputs": [],
   "source": [
    "llm = OpenAILike(\n",
    "            model=\"MODEL NAME\",\n",
    "            api_key=\"PASTE API KEY HERE\",\n",
    "            api_base=\"API BASE URL HERE\", # like \"https://api.openai.com/v1\"\n",
    "            is_chat_model=True,\n",
    "            is_function_calling_model=False,\n",
    "            context_window=2048,\n",
    "        )"
   ]
  },
  {
   "cell_type": "code",
   "execution_count": 60,
   "metadata": {},
   "outputs": [],
   "source": [
    "agent = ReActAgent.from_tools(db_tools.to_tool_list(), llm=llm, verbose=True)"
   ]
  },
  {
   "cell_type": "code",
   "execution_count": 53,
   "metadata": {},
   "outputs": [
    {
     "name": "stdout",
     "output_type": "stream",
     "text": [
      "\u001b[1;3;38;5;200mThought: The current language of the user is: English. I need to use a tool to help me answer the question.\n",
      "Action: list_tables\n",
      "Action Input: {}\n",
      "\u001b[0m\u001b[1;3;34mObservation: ['electricity']\n",
      "\u001b[0m\u001b[1;3;38;5;200mThought: The current language of the user is: English. I need to use a tool to help me answer the question.\n",
      "Action: describe_tables\n",
      "Action Input: {'tables': ['electricity']}\n",
      "\u001b[0m\u001b[1;3;34mObservation: \n",
      "CREATE TABLE electricity (\n",
      "\tcountry VARCHAR(255), \n",
      "\tfeatures VARCHAR(255), \n",
      "\tregion VARCHAR(255), \n",
      "\tyear1980 NUMERIC, \n",
      "\tyear1981 NUMERIC, \n",
      "\tyear1982 NUMERIC, \n",
      "\tyear1983 NUMERIC, \n",
      "\tyear1984 NUMERIC, \n",
      "\tyear1985 NUMERIC, \n",
      "\tyear1986 NUMERIC, \n",
      "\tyear1987 NUMERIC, \n",
      "\tyear1988 NUMERIC, \n",
      "\tyear1989 NUMERIC, \n",
      "\tyear1990 NUMERIC, \n",
      "\tyear1991 NUMERIC, \n",
      "\tyear1992 NUMERIC, \n",
      "\tyear1993 NUMERIC, \n",
      "\tyear1994 NUMERIC, \n",
      "\tyear1995 NUMERIC, \n",
      "\tyear1996 NUMERIC, \n",
      "\tyear1997 NUMERIC, \n",
      "\tyear1998 NUMERIC, \n",
      "\tyear1999 NUMERIC, \n",
      "\tyear2000 NUMERIC, \n",
      "\tyear2001 NUMERIC, \n",
      "\tyear2002 NUMERIC, \n",
      "\tyear2003 NUMERIC, \n",
      "\tyear2004 NUMERIC, \n",
      "\tyear2005 NUMERIC, \n",
      "\tyear2006 NUMERIC, \n",
      "\tyear2007 NUMERIC, \n",
      "\tyear2008 NUMERIC, \n",
      "\tyear2009 NUMERIC, \n",
      "\tyear2010 NUMERIC, \n",
      "\tyear2011 NUMERIC, \n",
      "\tyear2012 NUMERIC, \n",
      "\tyear2013 NUMERIC, \n",
      "\tyear2014 NUMERIC, \n",
      "\tyear2015 NUMERIC, \n",
      "\tyear2016 NUMERIC, \n",
      "\tyear2017 NUMERIC, \n",
      "\tyear2018 NUMERIC, \n",
      "\tyear2019 NUMERIC, \n",
      "\tyear2020 NUMERIC, \n",
      "\tyear2021 NUMERIC\n",
      ")\n",
      "\n",
      "\n",
      "\n",
      "\u001b[0m\u001b[1;3;38;5;200mThought: The current language of the user is: English. I need to use a tool to help me answer the question.\n",
      "Action: load_data\n",
      "Action Input: {'query': 'SELECT DISTINCT region FROM electricity'}\n",
      "\u001b[0m\u001b[1;3;34mObservation: [Document(id_='70e2a001-42ea-413c-9fd8-ee03e315890f', embedding=None, metadata={}, excluded_embed_metadata_keys=[], excluded_llm_metadata_keys=[], relationships={}, text='Central & South America', start_char_idx=None, end_char_idx=None, text_template='{metadata_str}\\n\\n{content}', metadata_template='{key}: {value}', metadata_seperator='\\n'), Document(id_='2e8846ed-50b1-48ea-bf24-e120c753597e', embedding=None, metadata={}, excluded_embed_metadata_keys=[], excluded_llm_metadata_keys=[], relationships={}, text='Asia & Oceania', start_char_idx=None, end_char_idx=None, text_template='{metadata_str}\\n\\n{content}', metadata_template='{key}: {value}', metadata_seperator='\\n'), Document(id_='c2629bdd-20f3-4e99-b5c5-a1876be91529', embedding=None, metadata={}, excluded_embed_metadata_keys=[], excluded_llm_metadata_keys=[], relationships={}, text='North America', start_char_idx=None, end_char_idx=None, text_template='{metadata_str}\\n\\n{content}', metadata_template='{key}: {value}', metadata_seperator='\\n'), Document(id_='af704d7d-6f71-4d4d-a17a-dbca30c0d958', embedding=None, metadata={}, excluded_embed_metadata_keys=[], excluded_llm_metadata_keys=[], relationships={}, text='Eurasia', start_char_idx=None, end_char_idx=None, text_template='{metadata_str}\\n\\n{content}', metadata_template='{key}: {value}', metadata_seperator='\\n'), Document(id_='a70dc578-16a9-4fc8-89fa-4fef4a13f70d', embedding=None, metadata={}, excluded_embed_metadata_keys=[], excluded_llm_metadata_keys=[], relationships={}, text='Africa', start_char_idx=None, end_char_idx=None, text_template='{metadata_str}\\n\\n{content}', metadata_template='{key}: {value}', metadata_seperator='\\n'), Document(id_='68ac82d9-879c-40ba-bb5a-8b79c24c2d10', embedding=None, metadata={}, excluded_embed_metadata_keys=[], excluded_llm_metadata_keys=[], relationships={}, text='Middle East', start_char_idx=None, end_char_idx=None, text_template='{metadata_str}\\n\\n{content}', metadata_template='{key}: {value}', metadata_seperator='\\n'), Document(id_='5032f6c6-730e-42e5-9a4a-59bbd67a9ffa', embedding=None, metadata={}, excluded_embed_metadata_keys=[], excluded_llm_metadata_keys=[], relationships={}, text='Europe', start_char_idx=None, end_char_idx=None, text_template='{metadata_str}\\n\\n{content}', metadata_template='{key}: {value}', metadata_seperator='\\n')]\n",
      "\u001b[0m\u001b[1;3;38;5;200mThought: I can answer without using any more tools. I'll use the user's language to answer\n",
      "Answer: The region names are: Central & South America, Asia & Oceania, North America, Eurasia, Africa, Middle East, Europe.\n",
      "\u001b[0m"
     ]
    }
   ],
   "source": [
    "response = agent.chat(\"provide all the region name\")"
   ]
  },
  {
   "cell_type": "code",
   "execution_count": 61,
   "metadata": {},
   "outputs": [
    {
     "name": "stdout",
     "output_type": "stream",
     "text": [
      "\u001b[1;3;38;5;200mThought: The current language of the user is: English. I need to use a tool to help me answer the question.\n",
      "Action: list_tables\n",
      "Action Input: {}\n",
      "\u001b[0m\u001b[1;3;34mObservation: ['electricity']\n",
      "\u001b[0m\u001b[1;3;38;5;200mThought: The current language of the user is: English. I need to use a tool to help me answer the question.\n",
      "Action: describe_tables\n",
      "Action Input: {'tables': ['electricity']}\n",
      "\u001b[0m\u001b[1;3;34mObservation: \n",
      "CREATE TABLE electricity (\n",
      "\tcountry VARCHAR(255), \n",
      "\tfeatures VARCHAR(255), \n",
      "\tregion VARCHAR(255), \n",
      "\tyear1980 NUMERIC, \n",
      "\tyear1981 NUMERIC, \n",
      "\tyear1982 NUMERIC, \n",
      "\tyear1983 NUMERIC, \n",
      "\tyear1984 NUMERIC, \n",
      "\tyear1985 NUMERIC, \n",
      "\tyear1986 NUMERIC, \n",
      "\tyear1987 NUMERIC, \n",
      "\tyear1988 NUMERIC, \n",
      "\tyear1989 NUMERIC, \n",
      "\tyear1990 NUMERIC, \n",
      "\tyear1991 NUMERIC, \n",
      "\tyear1992 NUMERIC, \n",
      "\tyear1993 NUMERIC, \n",
      "\tyear1994 NUMERIC, \n",
      "\tyear1995 NUMERIC, \n",
      "\tyear1996 NUMERIC, \n",
      "\tyear1997 NUMERIC, \n",
      "\tyear1998 NUMERIC, \n",
      "\tyear1999 NUMERIC, \n",
      "\tyear2000 NUMERIC, \n",
      "\tyear2001 NUMERIC, \n",
      "\tyear2002 NUMERIC, \n",
      "\tyear2003 NUMERIC, \n",
      "\tyear2004 NUMERIC, \n",
      "\tyear2005 NUMERIC, \n",
      "\tyear2006 NUMERIC, \n",
      "\tyear2007 NUMERIC, \n",
      "\tyear2008 NUMERIC, \n",
      "\tyear2009 NUMERIC, \n",
      "\tyear2010 NUMERIC, \n",
      "\tyear2011 NUMERIC, \n",
      "\tyear2012 NUMERIC, \n",
      "\tyear2013 NUMERIC, \n",
      "\tyear2014 NUMERIC, \n",
      "\tyear2015 NUMERIC, \n",
      "\tyear2016 NUMERIC, \n",
      "\tyear2017 NUMERIC, \n",
      "\tyear2018 NUMERIC, \n",
      "\tyear2019 NUMERIC, \n",
      "\tyear2020 NUMERIC, \n",
      "\tyear2021 NUMERIC\n",
      ")\n",
      "\n",
      "\n",
      "\n",
      "\u001b[0m\u001b[1;3;38;5;200mThought: The current language of the user is: English. I need to use a tool to help me answer the question.\n",
      "Action: load_data\n",
      "Action Input: {'query': 'SELECT * FROM electricity LIMIT 1'}\n",
      "\u001b[0m\u001b[1;3;34mObservation: [Document(id_='f82703a3-6e70-401e-b76e-899c9605b677', embedding=None, metadata={}, excluded_embed_metadata_keys=[], excluded_llm_metadata_keys=[], relationships={}, text='        Algeria, net generation, Africa, 6.683, 7.65, 8.824, 9.615, 10.537, 11.569, 12.214, 13.014, 14.08, 14.449, 15.145, 16.319, 17.199, 18.267, 18.703, 18.09, 19.124, 19.739, 21.448, 23.282, 23.88952, 25.03064, 25.99154, 27.80964, 29.38706, 31.9074, 33.12352, 34.9758, 37.83582, 36.206, 42.9985, 48.17578, 53.9845, 56.3134, 60.39972, 64.68244, 66.75504, 71.49546, 72.10903, 76.685, 72.73591277, 77.53072719', start_char_idx=None, end_char_idx=None, text_template='{metadata_str}\\n\\n{content}', metadata_template='{key}: {value}', metadata_seperator='\\n')]\n",
      "\u001b[0m\u001b[1;3;38;5;200mThought: I can answer without using any more tools. I'll use the user's language to answer\n",
      "Answer: The first row of the table is: Algeria, net generation, Africa, 6.683, 7.65, 8.824, 9.615, 10.537, 11.569, 12.214, 13.014, 14.08, 14.449, 15.145, 16.319, 17.199, 18.267, 18.703, 18.09, 19.124, 19.739, 21.448, 23.282, 23.88952, 25.03064, 25.99154, 27.80964, 29.38706, 31.9074, 33.12352, 34.9758, 37.83582, 36.206, 42.9985, 48.17578, 53.9845, 56.3134, 60.39972, 64.68244, 66.75504, 71.49546, 72.10903, 76.685, 72.73591277, 77.53072719.\n",
      "\u001b[0m"
     ]
    },
    {
     "data": {
      "text/plain": [
       "AgentChatResponse(response='The first row of the table is: Algeria, net generation, Africa, 6.683, 7.65, 8.824, 9.615, 10.537, 11.569, 12.214, 13.014, 14.08, 14.449, 15.145, 16.319, 17.199, 18.267, 18.703, 18.09, 19.124, 19.739, 21.448, 23.282, 23.88952, 25.03064, 25.99154, 27.80964, 29.38706, 31.9074, 33.12352, 34.9758, 37.83582, 36.206, 42.9985, 48.17578, 53.9845, 56.3134, 60.39972, 64.68244, 66.75504, 71.49546, 72.10903, 76.685, 72.73591277, 77.53072719.', sources=[ToolOutput(content=\"['electricity']\", tool_name='list_tables', raw_input={'args': (), 'kwargs': {}}, raw_output=['electricity']), ToolOutput(content='\\nCREATE TABLE electricity (\\n\\tcountry VARCHAR(255), \\n\\tfeatures VARCHAR(255), \\n\\tregion VARCHAR(255), \\n\\tyear1980 NUMERIC, \\n\\tyear1981 NUMERIC, \\n\\tyear1982 NUMERIC, \\n\\tyear1983 NUMERIC, \\n\\tyear1984 NUMERIC, \\n\\tyear1985 NUMERIC, \\n\\tyear1986 NUMERIC, \\n\\tyear1987 NUMERIC, \\n\\tyear1988 NUMERIC, \\n\\tyear1989 NUMERIC, \\n\\tyear1990 NUMERIC, \\n\\tyear1991 NUMERIC, \\n\\tyear1992 NUMERIC, \\n\\tyear1993 NUMERIC, \\n\\tyear1994 NUMERIC, \\n\\tyear1995 NUMERIC, \\n\\tyear1996 NUMERIC, \\n\\tyear1997 NUMERIC, \\n\\tyear1998 NUMERIC, \\n\\tyear1999 NUMERIC, \\n\\tyear2000 NUMERIC, \\n\\tyear2001 NUMERIC, \\n\\tyear2002 NUMERIC, \\n\\tyear2003 NUMERIC, \\n\\tyear2004 NUMERIC, \\n\\tyear2005 NUMERIC, \\n\\tyear2006 NUMERIC, \\n\\tyear2007 NUMERIC, \\n\\tyear2008 NUMERIC, \\n\\tyear2009 NUMERIC, \\n\\tyear2010 NUMERIC, \\n\\tyear2011 NUMERIC, \\n\\tyear2012 NUMERIC, \\n\\tyear2013 NUMERIC, \\n\\tyear2014 NUMERIC, \\n\\tyear2015 NUMERIC, \\n\\tyear2016 NUMERIC, \\n\\tyear2017 NUMERIC, \\n\\tyear2018 NUMERIC, \\n\\tyear2019 NUMERIC, \\n\\tyear2020 NUMERIC, \\n\\tyear2021 NUMERIC\\n)\\n\\n\\n', tool_name='describe_tables', raw_input={'args': (), 'kwargs': {'tables': ['electricity']}}, raw_output='\\nCREATE TABLE electricity (\\n\\tcountry VARCHAR(255), \\n\\tfeatures VARCHAR(255), \\n\\tregion VARCHAR(255), \\n\\tyear1980 NUMERIC, \\n\\tyear1981 NUMERIC, \\n\\tyear1982 NUMERIC, \\n\\tyear1983 NUMERIC, \\n\\tyear1984 NUMERIC, \\n\\tyear1985 NUMERIC, \\n\\tyear1986 NUMERIC, \\n\\tyear1987 NUMERIC, \\n\\tyear1988 NUMERIC, \\n\\tyear1989 NUMERIC, \\n\\tyear1990 NUMERIC, \\n\\tyear1991 NUMERIC, \\n\\tyear1992 NUMERIC, \\n\\tyear1993 NUMERIC, \\n\\tyear1994 NUMERIC, \\n\\tyear1995 NUMERIC, \\n\\tyear1996 NUMERIC, \\n\\tyear1997 NUMERIC, \\n\\tyear1998 NUMERIC, \\n\\tyear1999 NUMERIC, \\n\\tyear2000 NUMERIC, \\n\\tyear2001 NUMERIC, \\n\\tyear2002 NUMERIC, \\n\\tyear2003 NUMERIC, \\n\\tyear2004 NUMERIC, \\n\\tyear2005 NUMERIC, \\n\\tyear2006 NUMERIC, \\n\\tyear2007 NUMERIC, \\n\\tyear2008 NUMERIC, \\n\\tyear2009 NUMERIC, \\n\\tyear2010 NUMERIC, \\n\\tyear2011 NUMERIC, \\n\\tyear2012 NUMERIC, \\n\\tyear2013 NUMERIC, \\n\\tyear2014 NUMERIC, \\n\\tyear2015 NUMERIC, \\n\\tyear2016 NUMERIC, \\n\\tyear2017 NUMERIC, \\n\\tyear2018 NUMERIC, \\n\\tyear2019 NUMERIC, \\n\\tyear2020 NUMERIC, \\n\\tyear2021 NUMERIC\\n)\\n\\n\\n'), ToolOutput(content=\"[Document(id_='f82703a3-6e70-401e-b76e-899c9605b677', embedding=None, metadata={}, excluded_embed_metadata_keys=[], excluded_llm_metadata_keys=[], relationships={}, text='        Algeria, net generation, Africa, 6.683, 7.65, 8.824, 9.615, 10.537, 11.569, 12.214, 13.014, 14.08, 14.449, 15.145, 16.319, 17.199, 18.267, 18.703, 18.09, 19.124, 19.739, 21.448, 23.282, 23.88952, 25.03064, 25.99154, 27.80964, 29.38706, 31.9074, 33.12352, 34.9758, 37.83582, 36.206, 42.9985, 48.17578, 53.9845, 56.3134, 60.39972, 64.68244, 66.75504, 71.49546, 72.10903, 76.685, 72.73591277, 77.53072719', start_char_idx=None, end_char_idx=None, text_template='{metadata_str}\\\\n\\\\n{content}', metadata_template='{key}: {value}', metadata_seperator='\\\\n')]\", tool_name='load_data', raw_input={'args': (), 'kwargs': {'query': 'SELECT * FROM electricity LIMIT 1'}}, raw_output=[Document(id_='f82703a3-6e70-401e-b76e-899c9605b677', embedding=None, metadata={}, excluded_embed_metadata_keys=[], excluded_llm_metadata_keys=[], relationships={}, text='        Algeria, net generation, Africa, 6.683, 7.65, 8.824, 9.615, 10.537, 11.569, 12.214, 13.014, 14.08, 14.449, 15.145, 16.319, 17.199, 18.267, 18.703, 18.09, 19.124, 19.739, 21.448, 23.282, 23.88952, 25.03064, 25.99154, 27.80964, 29.38706, 31.9074, 33.12352, 34.9758, 37.83582, 36.206, 42.9985, 48.17578, 53.9845, 56.3134, 60.39972, 64.68244, 66.75504, 71.49546, 72.10903, 76.685, 72.73591277, 77.53072719', start_char_idx=None, end_char_idx=None, text_template='{metadata_str}\\n\\n{content}', metadata_template='{key}: {value}', metadata_seperator='\\n')])], source_nodes=[])"
      ]
     },
     "execution_count": 61,
     "metadata": {},
     "output_type": "execute_result"
    }
   ],
   "source": [
    "agent.chat(\"Retrieve the first row of that table\")"
   ]
  },
  {
   "cell_type": "code",
   "execution_count": 63,
   "metadata": {},
   "outputs": [
    {
     "name": "stdout",
     "output_type": "stream",
     "text": [
      "\u001b[1;3;38;5;200mThought: The current language of the user is: English. I need to use a tool to help me answer the question.\n",
      "Action: describe_tables\n",
      "Action Input: {'tables': ['electricity']}\n",
      "\u001b[0m\u001b[1;3;34mObservation: \n",
      "CREATE TABLE electricity (\n",
      "\tcountry VARCHAR(255), \n",
      "\tfeatures VARCHAR(255), \n",
      "\tregion VARCHAR(255), \n",
      "\tyear1980 NUMERIC, \n",
      "\tyear1981 NUMERIC, \n",
      "\tyear1982 NUMERIC, \n",
      "\tyear1983 NUMERIC, \n",
      "\tyear1984 NUMERIC, \n",
      "\tyear1985 NUMERIC, \n",
      "\tyear1986 NUMERIC, \n",
      "\tyear1987 NUMERIC, \n",
      "\tyear1988 NUMERIC, \n",
      "\tyear1989 NUMERIC, \n",
      "\tyear1990 NUMERIC, \n",
      "\tyear1991 NUMERIC, \n",
      "\tyear1992 NUMERIC, \n",
      "\tyear1993 NUMERIC, \n",
      "\tyear1994 NUMERIC, \n",
      "\tyear1995 NUMERIC, \n",
      "\tyear1996 NUMERIC, \n",
      "\tyear1997 NUMERIC, \n",
      "\tyear1998 NUMERIC, \n",
      "\tyear1999 NUMERIC, \n",
      "\tyear2000 NUMERIC, \n",
      "\tyear2001 NUMERIC, \n",
      "\tyear2002 NUMERIC, \n",
      "\tyear2003 NUMERIC, \n",
      "\tyear2004 NUMERIC, \n",
      "\tyear2005 NUMERIC, \n",
      "\tyear2006 NUMERIC, \n",
      "\tyear2007 NUMERIC, \n",
      "\tyear2008 NUMERIC, \n",
      "\tyear2009 NUMERIC, \n",
      "\tyear2010 NUMERIC, \n",
      "\tyear2011 NUMERIC, \n",
      "\tyear2012 NUMERIC, \n",
      "\tyear2013 NUMERIC, \n",
      "\tyear2014 NUMERIC, \n",
      "\tyear2015 NUMERIC, \n",
      "\tyear2016 NUMERIC, \n",
      "\tyear2017 NUMERIC, \n",
      "\tyear2018 NUMERIC, \n",
      "\tyear2019 NUMERIC, \n",
      "\tyear2020 NUMERIC, \n",
      "\tyear2021 NUMERIC\n",
      ")\n",
      "\n",
      "\n",
      "\n",
      "\u001b[0m\u001b[1;3;38;5;200mThought: I can answer without using any more tools. I'll use the user's language to answer\n",
      "Answer: The electricity table has 4 columns for country, features, and region, and 42 columns for years from 1980 to 2021, each containing numeric values.\n",
      "\u001b[0m"
     ]
    },
    {
     "data": {
      "text/plain": [
       "AgentChatResponse(response='The electricity table has 4 columns for country, features, and region, and 42 columns for years from 1980 to 2021, each containing numeric values.', sources=[ToolOutput(content='\\nCREATE TABLE electricity (\\n\\tcountry VARCHAR(255), \\n\\tfeatures VARCHAR(255), \\n\\tregion VARCHAR(255), \\n\\tyear1980 NUMERIC, \\n\\tyear1981 NUMERIC, \\n\\tyear1982 NUMERIC, \\n\\tyear1983 NUMERIC, \\n\\tyear1984 NUMERIC, \\n\\tyear1985 NUMERIC, \\n\\tyear1986 NUMERIC, \\n\\tyear1987 NUMERIC, \\n\\tyear1988 NUMERIC, \\n\\tyear1989 NUMERIC, \\n\\tyear1990 NUMERIC, \\n\\tyear1991 NUMERIC, \\n\\tyear1992 NUMERIC, \\n\\tyear1993 NUMERIC, \\n\\tyear1994 NUMERIC, \\n\\tyear1995 NUMERIC, \\n\\tyear1996 NUMERIC, \\n\\tyear1997 NUMERIC, \\n\\tyear1998 NUMERIC, \\n\\tyear1999 NUMERIC, \\n\\tyear2000 NUMERIC, \\n\\tyear2001 NUMERIC, \\n\\tyear2002 NUMERIC, \\n\\tyear2003 NUMERIC, \\n\\tyear2004 NUMERIC, \\n\\tyear2005 NUMERIC, \\n\\tyear2006 NUMERIC, \\n\\tyear2007 NUMERIC, \\n\\tyear2008 NUMERIC, \\n\\tyear2009 NUMERIC, \\n\\tyear2010 NUMERIC, \\n\\tyear2011 NUMERIC, \\n\\tyear2012 NUMERIC, \\n\\tyear2013 NUMERIC, \\n\\tyear2014 NUMERIC, \\n\\tyear2015 NUMERIC, \\n\\tyear2016 NUMERIC, \\n\\tyear2017 NUMERIC, \\n\\tyear2018 NUMERIC, \\n\\tyear2019 NUMERIC, \\n\\tyear2020 NUMERIC, \\n\\tyear2021 NUMERIC\\n)\\n\\n\\n', tool_name='describe_tables', raw_input={'args': (), 'kwargs': {'tables': ['electricity']}}, raw_output='\\nCREATE TABLE electricity (\\n\\tcountry VARCHAR(255), \\n\\tfeatures VARCHAR(255), \\n\\tregion VARCHAR(255), \\n\\tyear1980 NUMERIC, \\n\\tyear1981 NUMERIC, \\n\\tyear1982 NUMERIC, \\n\\tyear1983 NUMERIC, \\n\\tyear1984 NUMERIC, \\n\\tyear1985 NUMERIC, \\n\\tyear1986 NUMERIC, \\n\\tyear1987 NUMERIC, \\n\\tyear1988 NUMERIC, \\n\\tyear1989 NUMERIC, \\n\\tyear1990 NUMERIC, \\n\\tyear1991 NUMERIC, \\n\\tyear1992 NUMERIC, \\n\\tyear1993 NUMERIC, \\n\\tyear1994 NUMERIC, \\n\\tyear1995 NUMERIC, \\n\\tyear1996 NUMERIC, \\n\\tyear1997 NUMERIC, \\n\\tyear1998 NUMERIC, \\n\\tyear1999 NUMERIC, \\n\\tyear2000 NUMERIC, \\n\\tyear2001 NUMERIC, \\n\\tyear2002 NUMERIC, \\n\\tyear2003 NUMERIC, \\n\\tyear2004 NUMERIC, \\n\\tyear2005 NUMERIC, \\n\\tyear2006 NUMERIC, \\n\\tyear2007 NUMERIC, \\n\\tyear2008 NUMERIC, \\n\\tyear2009 NUMERIC, \\n\\tyear2010 NUMERIC, \\n\\tyear2011 NUMERIC, \\n\\tyear2012 NUMERIC, \\n\\tyear2013 NUMERIC, \\n\\tyear2014 NUMERIC, \\n\\tyear2015 NUMERIC, \\n\\tyear2016 NUMERIC, \\n\\tyear2017 NUMERIC, \\n\\tyear2018 NUMERIC, \\n\\tyear2019 NUMERIC, \\n\\tyear2020 NUMERIC, \\n\\tyear2021 NUMERIC\\n)\\n\\n\\n')], source_nodes=[])"
      ]
     },
     "execution_count": 63,
     "metadata": {},
     "output_type": "execute_result"
    }
   ],
   "source": [
    "agent.chat(\"Describe the electricity table\")"
   ]
  },
  {
   "cell_type": "code",
   "execution_count": 54,
   "metadata": {},
   "outputs": [],
   "source": [
    "def multiply(a: int, b: int) -> int:\n",
    "    \"\"\"Multiply two integers and returns the result integer\"\"\"\n",
    "    return a * b\n",
    "\n",
    "def add(a: int, b: int) -> int:\n",
    "    \"\"\"Add two integers and returns the result integer\"\"\"\n",
    "    return a + b\n",
    "\n",
    "def subtract(a: int, b: int) -> int:\n",
    "    \"\"\"Subtract two integers and returns the result integer\"\"\"\n",
    "    return a - b"
   ]
  },
  {
   "cell_type": "code",
   "execution_count": 56,
   "metadata": {},
   "outputs": [],
   "source": [
    "multiply_tool = FunctionTool.from_defaults(fn=multiply)\n",
    "add_tool = FunctionTool.from_defaults(fn=add)\n",
    "subtract_tool = FunctionTool.from_defaults(fn=subtract)"
   ]
  },
  {
   "cell_type": "code",
   "execution_count": 57,
   "metadata": {},
   "outputs": [],
   "source": [
    "agent = ReActAgent.from_tools([multiply_tool, add_tool, subtract_tool], llm=llm, verbose=True)"
   ]
  },
  {
   "cell_type": "code",
   "execution_count": 58,
   "metadata": {},
   "outputs": [
    {
     "name": "stdout",
     "output_type": "stream",
     "text": [
      "\u001b[1;3;38;5;200mThought: The current language of the user is: English. I need to use a tool to help me answer the question.\n",
      "Action: multiply\n",
      "Action Input: {'a': 17, 'b': 2}\n",
      "\u001b[0m\u001b[1;3;34mObservation: 34\n",
      "\u001b[0m\u001b[1;3;38;5;200mThought: I have the result of the multiplication, now I need to add 90 to it.\n",
      "Action: add\n",
      "Action Input: {'a': 90, 'b': 34}\n",
      "\u001b[0m\u001b[1;3;34mObservation: 124\n",
      "\u001b[0m\u001b[1;3;38;5;200mThought: I can answer without using any more tools. I'll use the user's language to answer\n",
      "Answer: 90+(17*2) is 124.\n",
      "\u001b[0m"
     ]
    }
   ],
   "source": [
    "response = agent.chat(\"What is 90+(17*2)? Calculate step by step.\")"
   ]
  }
 ],
 "metadata": {
  "kernelspec": {
   "display_name": "Python 3",
   "language": "python",
   "name": "python3"
  },
  "language_info": {
   "codemirror_mode": {
    "name": "ipython",
    "version": 3
   },
   "file_extension": ".py",
   "mimetype": "text/x-python",
   "name": "python",
   "nbconvert_exporter": "python",
   "pygments_lexer": "ipython3",
   "version": "3.10.12"
  }
 },
 "nbformat": 4,
 "nbformat_minor": 2
}
