{
 "cells": [
  {
   "cell_type": "code",
   "execution_count": 1,
   "metadata": {},
   "outputs": [],
   "source": [
    "import os\n",
    "from langchain.vectorstores.chroma import Chroma\n",
    "from langchain.embeddings import HuggingFaceEmbeddings, OpenAIEmbeddings\n",
    "from langchain.text_splitter import RecursiveCharacterTextSplitter\n",
    "from langchain.llms import OpenAI\n",
    "from langchain.chains import RetrievalQA\n",
    "from langchain.document_loaders import TextLoader\n",
    "from langchain.document_loaders import DirectoryLoader\n",
    "from langchain_community.llms import LlamaCpp\n",
    "\n",
    "\n",
    "os.environ[\"OPENAI_API_KEY\"]=\"\""
   ]
  },
  {
   "cell_type": "code",
   "execution_count": 2,
   "metadata": {},
   "outputs": [],
   "source": [
    "# load multiple and process documents \n",
    "loader = DirectoryLoader('Pdf_Parsers_Txt_Files', glob=\"*.txt\", loader_cls=TextLoader)\n",
    "\n",
    "documents =loader.load()"
   ]
  },
  {
   "cell_type": "code",
   "execution_count": 3,
   "metadata": {},
   "outputs": [],
   "source": [
    "#!pip install sentence_transformers\n",
    "\n",
    "from langchain.embeddings import HuggingFaceBgeEmbeddings\n",
    "\n",
    "model_name = \"BAAI/bge-small-en\"\n",
    "model_kwargs = {\"device\": \"cpu\"}\n",
    "encode_kwargs = {\"normalize_embeddings\": True}\n",
    "\n",
    "hfEmbedding = HuggingFaceBgeEmbeddings(\n",
    "    model_name=model_name, model_kwargs=model_kwargs, encode_kwargs=encode_kwargs\n",
    ")"
   ]
  },
  {
   "cell_type": "code",
   "execution_count": null,
   "metadata": {},
   "outputs": [
    {
     "data": {
      "application/vnd.jupyter.widget-view+json": {
       "model_id": "9b56f1ed1c0741adacc19de35babb3fc",
       "version_major": 2,
       "version_minor": 0
      },
      "text/plain": [
       "Downloading .gitattributes:   0%|          | 0.00/1.52k [00:00<?, ?B/s]"
      ]
     },
     "metadata": {},
     "output_type": "display_data"
    },
    {
     "data": {
      "application/vnd.jupyter.widget-view+json": {
       "model_id": "650b0effc5af4bb6a82adaf1c0bbfa59",
       "version_major": 2,
       "version_minor": 0
      },
      "text/plain": [
       "Downloading 1_Pooling/config.json:   0%|          | 0.00/190 [00:00<?, ?B/s]"
      ]
     },
     "metadata": {},
     "output_type": "display_data"
    },
    {
     "data": {
      "application/vnd.jupyter.widget-view+json": {
       "model_id": "9b174f7c97a04bfcbba2c2d69f53c3ce",
       "version_major": 2,
       "version_minor": 0
      },
      "text/plain": [
       "Downloading README.md:   0%|          | 0.00/90.8k [00:00<?, ?B/s]"
      ]
     },
     "metadata": {},
     "output_type": "display_data"
    },
    {
     "data": {
      "application/vnd.jupyter.widget-view+json": {
       "model_id": "c7553450427e4242a2f9bc36aa137c37",
       "version_major": 2,
       "version_minor": 0
      },
      "text/plain": [
       "Downloading config.json:   0%|          | 0.00/684 [00:00<?, ?B/s]"
      ]
     },
     "metadata": {},
     "output_type": "display_data"
    },
    {
     "data": {
      "application/vnd.jupyter.widget-view+json": {
       "model_id": "b3d010a57e3e4a3aad64fd60e3fe8076",
       "version_major": 2,
       "version_minor": 0
      },
      "text/plain": [
       "Downloading (…)ce_transformers.json:   0%|          | 0.00/124 [00:00<?, ?B/s]"
      ]
     },
     "metadata": {},
     "output_type": "display_data"
    },
    {
     "data": {
      "application/vnd.jupyter.widget-view+json": {
       "model_id": "3740995f64004a90ba6dd6f5b927bff2",
       "version_major": 2,
       "version_minor": 0
      },
      "text/plain": [
       "Downloading model.safetensors:   0%|          | 0.00/133M [00:00<?, ?B/s]"
      ]
     },
     "metadata": {},
     "output_type": "display_data"
    },
    {
     "data": {
      "application/vnd.jupyter.widget-view+json": {
       "model_id": "822a228ff2694662b2f9b3f767f63eed",
       "version_major": 2,
       "version_minor": 0
      },
      "text/plain": [
       "Downloading pytorch_model.bin:   0%|          | 0.00/134M [00:00<?, ?B/s]"
      ]
     },
     "metadata": {},
     "output_type": "display_data"
    },
    {
     "data": {
      "application/vnd.jupyter.widget-view+json": {
       "model_id": "bf53230536d44fa0a22213cb60a7f037",
       "version_major": 2,
       "version_minor": 0
      },
      "text/plain": [
       "Downloading (…)nce_bert_config.json:   0%|          | 0.00/52.0 [00:00<?, ?B/s]"
      ]
     },
     "metadata": {},
     "output_type": "display_data"
    },
    {
     "data": {
      "application/vnd.jupyter.widget-view+json": {
       "model_id": "048e4b1e732248e7b61e2de01ca22564",
       "version_major": 2,
       "version_minor": 0
      },
      "text/plain": [
       "Downloading (…)cial_tokens_map.json:   0%|          | 0.00/125 [00:00<?, ?B/s]"
      ]
     },
     "metadata": {},
     "output_type": "display_data"
    },
    {
     "data": {
      "application/vnd.jupyter.widget-view+json": {
       "model_id": "2dd4632831fa4f1aa2740bf46080cfee",
       "version_major": 2,
       "version_minor": 0
      },
      "text/plain": [
       "Downloading tokenizer.json:   0%|          | 0.00/711k [00:00<?, ?B/s]"
      ]
     },
     "metadata": {},
     "output_type": "display_data"
    },
    {
     "data": {
      "application/vnd.jupyter.widget-view+json": {
       "model_id": "7f13d706ad8c48289ef63bdaf5bce998",
       "version_major": 2,
       "version_minor": 0
      },
      "text/plain": [
       "Downloading tokenizer_config.json:   0%|          | 0.00/366 [00:00<?, ?B/s]"
      ]
     },
     "metadata": {},
     "output_type": "display_data"
    },
    {
     "data": {
      "application/vnd.jupyter.widget-view+json": {
       "model_id": "11c1222952b94886aa54f0fef099dc76",
       "version_major": 2,
       "version_minor": 0
      },
      "text/plain": [
       "Downloading vocab.txt:   0%|          | 0.00/232k [00:00<?, ?B/s]"
      ]
     },
     "metadata": {},
     "output_type": "display_data"
    },
    {
     "data": {
      "application/vnd.jupyter.widget-view+json": {
       "model_id": "a518c934539c40c782773c5a23911618",
       "version_major": 2,
       "version_minor": 0
      },
      "text/plain": [
       "Downloading modules.json:   0%|          | 0.00/349 [00:00<?, ?B/s]"
      ]
     },
     "metadata": {},
     "output_type": "display_data"
    },
    {
     "name": "stdout",
     "output_type": "stream",
     "text": [
      "length of text:  1124\n"
     ]
    }
   ],
   "source": [
    "text_splitter = RecursiveCharacterTextSplitter(chunk_size=500, chunk_overlap=100)\n",
    "\n",
    "text = text_splitter.split_documents(documents)\n",
    "\n",
    "print(\"length of text: \", len(text))"
   ]
  },
  {
   "cell_type": "code",
   "execution_count": 11,
   "metadata": {},
   "outputs": [],
   "source": [
    "# create DB\n",
    "directory = 'db'\n",
    "\n",
    "doc_embedding = OpenAIEmbeddings()\n",
    "\n",
    "vectordb = Chroma.from_documents(\n",
    "                    documents = text,\n",
    "                    embedding = hfEmbedding,\n",
    "                    persist_directory= directory )\n",
    "\n",
    "vectordb.persist()\n",
    "vectordb = None"
   ]
  },
  {
   "cell_type": "code",
   "execution_count": 6,
   "metadata": {},
   "outputs": [
    {
     "name": "stdout",
     "output_type": "stream",
     "text": [
      "4\n"
     ]
    }
   ],
   "source": [
    "directory = 'db'\n",
    "vectordb = Chroma(persist_directory = directory, embedding_function= hfEmbedding)\n",
    "\n",
    "retriever = vectordb.as_retriever()\n",
    "\n",
    "docs = retriever.get_relevant_documents(\"What is Forecast  Engine?\")\n",
    "\n",
    "print(len(docs))\n",
    "\n",
    "#retriever = vectordb.as_retriever(search_kwargs = {\"k\":3})\n",
    "\n",
    "#docs = retriever.get_relevant_documents(\"Basic Structure of the Local High\")\n",
    "\n",
    "#print(len(docs))"
   ]
  },
  {
   "cell_type": "code",
   "execution_count": 16,
   "metadata": {},
   "outputs": [
    {
     "data": {
      "text/plain": [
       "[Document(page_content='● Smart  Flow  Manager\\nAll the processed  data from forecast  engine  is used  here to evaluate  current  condition  of\\nthe system and decisions such as creating backup and charge source during PV hours\\nare taken  on the basis  of that.\\n\\nBasic Structure of the Local High\\n\\nWe are handling  slab and TOU  based  tariffs  in our first cut of the product.', metadata={'source': 'Pdf_Parsers_Txt_Files/Basic Structure of the Local High Voltage Product _parsed.txt'}),\n",
       " Document(page_content='5. periodic_comm  Handle Info (All the periodic calls,\\nsuch as Load,PV,Grid,Inverter, Battery\\nData)\\n\\nBasic Structure of the Local High\\n\\nSmartFlow\\n\\n● Forecast  Engine\\nCombines  all the input  data such  as PV, load forecast  in a tabular  form with time slots.\\nSaves  it in the database  and processes  this data.', metadata={'source': 'Pdf_Parsers_Txt_Files/Basic Structure of the Local High Voltage Product _parsed.txt'}),\n",
       " Document(page_content='energy management software that controls every aspect of your Advanced Solar Energy\\nSystem.SmartFlow’s prime objective is to maximize energy availability from cheapest sources.\\nIt takes into account historical and real-time data to make future predictions regarding grid\\navailability,solar output,load demand and battery’s state of charge (SOC).These predictions\\ncombined with user preference and tariff structure enables execution of an optimized power', metadata={'source': 'Pdf_Parsers_Txt_Files/ProductManualPoweramp_parsed.txt'}),\n",
       " Document(page_content='20\\nUser Manual  |  www.skyelectric.com\\nThe app also allows you to view the historical,current and predicted power and energy levels\\nof all the energy sources available to you along with the running load via graphs and statistics.\\nFrom the app you can also select the SmartFlow mode that you would like your system to run\\nin and get multiple notifications around the running of your system.  Menu\\nLive System\\nNavigation to Main Dashboard\\nWarnings/Notifications from the System\\nHistorical Power Data', metadata={'source': 'Pdf_Parsers_Txt_Files/Product Manual_HVSungrow_parsed.txt'})]"
      ]
     },
     "execution_count": 16,
     "metadata": {},
     "output_type": "execute_result"
    }
   ],
   "source": [
    "docs"
   ]
  },
  {
   "cell_type": "code",
   "execution_count": null,
   "metadata": {},
   "outputs": [],
   "source": [
    "import torch\n",
    "from transformers import pipeline\n",
    "from transformers import LlamaTokenizer, LlamaForCausalLM, GenerationConfig\n",
    "from langchain.llms import HuggingFacePipeline\n",
    "\n",
    "Tokenizer = LlamaTokenizer.from_pretrained(\"TheBloke/wizardLM-7B-HF\")\n",
    "model = LlamaForCausalLM.from_pretrained(\"TheBloke/wizardLM-7B-HF\",\n",
    "                                         load_in_8bit=True,\n",
    "                                         device_map='auto',\n",
    "                                         torch_dtype=torch.float16,\n",
    "                                         low_cpu_mem_usage=True)"
   ]
  },
  {
   "cell_type": "code",
   "execution_count": 9,
   "metadata": {},
   "outputs": [],
   "source": [
    "from langchain.llms import HuggingFacePipeline\n",
    "from transformers import pipeline\n",
    "from transformers import AutoTokenizer, AutoModelForCausalLM\n",
    "\n",
    "\n",
    "model_name = \"gpt2\"\n",
    "\n",
    "# Load the tokenizer\n",
    "tokenizer = AutoTokenizer.from_pretrained(model_name)\n",
    "\n",
    "# Load the model\n",
    "model = AutoModelForCausalLM.from_pretrained(model_name)"
   ]
  },
  {
   "cell_type": "code",
   "execution_count": 10,
   "metadata": {},
   "outputs": [
    {
     "name": "stderr",
     "output_type": "stream",
     "text": [
      "Xformers is not installed correctly. If you want to use memory_efficient_attention to accelerate training use the following command to install Xformers\n",
      "pip install xformers.\n"
     ]
    }
   ],
   "source": [
    "pipe = pipeline(\n",
    "                'text-generation',\n",
    "                model=model,\n",
    "                tokenizer=tokenizer,\n",
    "                max_length=1024,\n",
    "                temperature=0.3\n",
    ")\n",
    "\n",
    "local_llm = HuggingFacePipeline(pipeline=pipe)"
   ]
  },
  {
   "cell_type": "code",
   "execution_count": 11,
   "metadata": {},
   "outputs": [],
   "source": [
    "qa_chain = RetrievalQA.from_chain_type( \n",
    "                                        llm = local_llm, \n",
    "                                        chain_type=\"stuff\", \n",
    "                                        retriever=retriever, \n",
    "                                        return_source_documents=True)"
   ]
  },
  {
   "cell_type": "code",
   "execution_count": 13,
   "metadata": {},
   "outputs": [
    {
     "name": "stderr",
     "output_type": "stream",
     "text": [
      "Setting `pad_token_id` to `eos_token_id`:50256 for open-end generation.\n"
     ]
    },
    {
     "name": "stdout",
     "output_type": "stream",
     "text": [
      "{'query': 'What is Forecast  Engine?', 'result': ' Forecast  Engine is a program that can be used to generate  data from  forecast  engine  data. It is a tool that can be used to generate  data from  forecast  engine  data.\\n\\nIt is a tool that can be used to generate  data from  forecast  engine  data. It is a tool that can be used to generate  data from  forecast  engine  data. The tool can be used to generate  data from  forecast  engine  data. The tool can be used to generate  data from  forecast  engine  data. The tool can be used to generate  data from  forecast  engine  data. The tool can be used to generate  data from  forecast  engine  data. The tool can be used to generate  data from  forecast  engine  data. The tool can be used to generate  data from  forecast  engine  data. The tool can be used to generate  data from  forecast  engine  data. The tool can be used to generate  data from  forecast  engine  data. The tool can be used to generate  data from  forecast  engine  data. The tool can be used to generate  data from  forecast  engine  data. The tool can be used to generate  data from  forecast  engine  data. The tool can be used to generate  data from  forecast  engine  data. The tool can be used to generate  data from  forecast  engine  data. The tool can be used to generate  data from  forecast  engine  data. The tool can be used to generate  data from  forecast  engine  data. The tool can be used to generate  data from  forecast  engine  data. The tool can be used to generate  data from  forecast  engine  data. The tool can be used to generate  data from  forecast  engine  data. The tool can be used to generate  data from  forecast  engine  data. The tool can be used to generate  data from  forecast  engine  data. The tool can be used to generate  data from  forecast  engine  data.\\n\\nThe tool can be used to generate  data from  forecast  engine  data. The tool can be used to generate  data from  forecast  engine  data. The tool can be used to generate  data from  forecast  engine  data. The tool can be used to generate  data from  forecast  engine  data. The tool can be used to generate  data from  forecast  engine  data. The tool can be used to generate  data from  forecast  engine  data. The tool can be used to generate  data from  forecast  engine  data. The tool can be used to generate  data from  forecast  engine  data. The tool can be used to', 'source_documents': [Document(page_content='● Smart  Flow  Manager\\nAll the processed  data from forecast  engine  is used  here to evaluate  current  condition  of\\nthe system and decisions such as creating backup and charge source during PV hours\\nare taken  on the basis  of that.\\n\\nBasic Structure of the Local High\\n\\nWe are handling  slab and TOU  based  tariffs  in our first cut of the product.', metadata={'source': 'Pdf_Parsers_Txt_Files/Basic Structure of the Local High Voltage Product _parsed.txt'}), Document(page_content='5. periodic_comm  Handle Info (All the periodic calls,\\nsuch as Load,PV,Grid,Inverter, Battery\\nData)\\n\\nBasic Structure of the Local High\\n\\nSmartFlow\\n\\n● Forecast  Engine\\nCombines  all the input  data such  as PV, load forecast  in a tabular  form with time slots.\\nSaves  it in the database  and processes  this data.', metadata={'source': 'Pdf_Parsers_Txt_Files/Basic Structure of the Local High Voltage Product _parsed.txt'}), Document(page_content='energy management software that controls every aspect of your Advanced Solar Energy\\nSystem.SmartFlow’s prime objective is to maximize energy availability from cheapest sources.\\nIt takes into account historical and real-time data to make future predictions regarding grid\\navailability,solar output,load demand and battery’s state of charge (SOC).These predictions\\ncombined with user preference and tariff structure enables execution of an optimized power', metadata={'source': 'Pdf_Parsers_Txt_Files/ProductManualPoweramp_parsed.txt'}), Document(page_content='20\\nUser Manual  |  www.skyelectric.com\\nThe app also allows you to view the historical,current and predicted power and energy levels\\nof all the energy sources available to you along with the running load via graphs and statistics.\\nFrom the app you can also select the SmartFlow mode that you would like your system to run\\nin and get multiple notifications around the running of your system.  Menu\\nLive System\\nNavigation to Main Dashboard\\nWarnings/Notifications from the System\\nHistorical Power Data', metadata={'source': 'Pdf_Parsers_Txt_Files/Product Manual_HVSungrow_parsed.txt'})]}\n",
      " Forecast  Engine is a program that can be used to generate  data from  forecast  engine  data. It is a tool that can be used to generate  data from  forecast  engine  data.\n",
      "\n",
      "It is a tool that can be used to generate  data from  forecast  engine  data. It is a tool that can be used to generate  data from  forecast  engine  data. The tool can be used to generate  data from  forecast  engine  data. The tool can be used to generate  data from  forecast  engine  data. The tool can be used to generate  data from  forecast  engine  data. The tool can be used to generate  data from  forecast  engine  data. The tool can be used to generate  data from  forecast  engine  data. The tool can be used to generate  data from  forecast  engine  data. The tool can be used to generate  data from  forecast  engine  data. The tool can be used to generate  data from  forecast  engine  data. The tool can be used to generate  data from  forecast  engine  data. The tool can be used to generate  data from  forecast  engine  data. The tool can be used to generate  data from  forecast  engine  data. The tool can be used to generate  data from  forecast  engine  data. The tool can be used to generate  data from  forecast  engine  data. The tool can be used to generate  data from  forecast  engine  data. The tool can be used to generate  data from  forecast  engine  data. The tool can be used to generate  data from  forecast  engine  data. The tool can be used to generate  data from  forecast  engine  data. The tool can be used to generate  data from  forecast  engine  data. The tool can be used to generate  data from  forecast  engine  data. The tool can be used to generate  data from  forecast  engine  data. The tool can be used to generate  data from  forecast  engine  data.\n",
      "\n",
      "The tool can be used to generate  data from  forecast  engine  data. The tool can be used to generate  data from  forecast  engine  data. The tool can be used to generate  data from  forecast  engine  data. The tool can be used to generate  data from  forecast  engine  data. The tool can be used to generate  data from  forecast  engine  data. The tool can be used to generate  data from  forecast  engine  data. The tool can be used to generate  data from  forecast  engine  data. The tool can be used to generate  data from  forecast  engine  data. The tool can be used to\n",
      "\n",
      "\n",
      " Sources:\n"
     ]
    }
   ],
   "source": [
    "def process_llm_response(llm_response):\n",
    "    print('Human Query: ', llm_response['query'])\n",
    "    print(\"Assistant Response: \",llm_response['result'])\n",
    "\n",
    "\n",
    "query = \"What is Forecast  Engine?\"\n",
    "\n",
    "llm_response = qa_chain(query)\n",
    "print(llm_response)\n",
    "\n",
    "process_llm_response(llm_response)"
   ]
  },
  {
   "cell_type": "code",
   "execution_count": null,
   "metadata": {},
   "outputs": [],
   "source": []
  }
 ],
 "metadata": {
  "kernelspec": {
   "display_name": "Python 3",
   "language": "python",
   "name": "python3"
  },
  "language_info": {
   "codemirror_mode": {
    "name": "ipython",
    "version": 3
   },
   "file_extension": ".py",
   "mimetype": "text/x-python",
   "name": "python",
   "nbconvert_exporter": "python",
   "pygments_lexer": "ipython3",
   "version": "3.8.10"
  }
 },
 "nbformat": 4,
 "nbformat_minor": 2
}
